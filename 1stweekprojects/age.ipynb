{
 "cells": [
  {
   "cell_type": "code",
   "execution_count": 1,
   "id": "d9829612-d350-42fb-91f9-25acbe024563",
   "metadata": {},
   "outputs": [
    {
     "name": "stdout",
     "output_type": "stream",
     "text": [
      "hello how are you\n"
     ]
    },
    {
     "name": "stdin",
     "output_type": "stream",
     "text": [
      "whats is your age 12\n"
     ]
    }
   ],
   "source": [
    "print(\"hello how are you\")\n",
    "\n",
    "age = input(\"whats is your age\")\n",
    "age = int(age)\n",
    "\n",
    "if age <= 18:\n",
    "   \n",
    "    print(\"your not old enough\")\n",
    "else:\n",
    "    print(\"you made the cut\")"
   ]
  }
 ],
 "metadata": {
  "kernelspec": {
   "display_name": "Python 3 (ipykernel)",
   "language": "python",
   "name": "python3"
  },
  "language_info": {
   "codemirror_mode": {
    "name": "ipython",
    "version": 3
   },
   "file_extension": ".py",
   "mimetype": "text/x-python",
   "name": "python",
   "nbconvert_exporter": "python",
   "pygments_lexer": "ipython3",
   "version": "3.9.2"
  }
 },
 "nbformat": 4,
 "nbformat_minor": 5
}
