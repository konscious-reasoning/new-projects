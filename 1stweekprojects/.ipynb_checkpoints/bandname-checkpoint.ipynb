{
 "cells": [
  {
   "cell_type": "code",
   "execution_count": 9,
   "id": "a45390aa-da4c-4fcb-9690-d1eaccc487a0",
   "metadata": {},
   "outputs": [
    {
     "name": "stdout",
     "output_type": "stream",
     "text": [
      " hello welcome and lets get started\n"
     ]
    },
    {
     "name": "stdin",
     "output_type": "stream",
     "text": [
      " what city do you live in bet\n",
      " what is your pet name ass\n"
     ]
    },
    {
     "name": "stdout",
     "output_type": "stream",
     "text": [
      "well looks like your ideal band name is assbet\n"
     ]
    }
   ],
   "source": [
    "#1. Create a greeting for your program.\n",
    "print(\" hello welcome and lets get started\")\n",
    "#2. Ask the user for the city that they grew up in.\n",
    "city = input(\" what city do you live in\")\n",
    "#3. Ask the user for the name of a pet.\n",
    "pet = input(\" what is your pet name\")\n",
    "#4. Combine the name of their city and pet and show them their band name.\n",
    "band_name = pet + city \n",
    "#5. Make sure the input cursor shows on a new line:\n",
    "print(\"well looks like your ideal band name is \" + band_name,)"
   ]
  },
  {
   "cell_type": "code",
   "execution_count": null,
   "id": "1924bfe3-f71b-4341-adfa-662a724ee0a8",
   "metadata": {},
   "outputs": [],
   "source": []
  }
 ],
 "metadata": {
  "kernelspec": {
   "display_name": "Python 3 (ipykernel)",
   "language": "python",
   "name": "python3"
  },
  "language_info": {
   "codemirror_mode": {
    "name": "ipython",
    "version": 3
   },
   "file_extension": ".py",
   "mimetype": "text/x-python",
   "name": "python",
   "nbconvert_exporter": "python",
   "pygments_lexer": "ipython3",
   "version": "3.9.2"
  }
 },
 "nbformat": 4,
 "nbformat_minor": 5
}
